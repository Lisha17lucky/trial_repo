{
  "nbformat": 4,
  "nbformat_minor": 0,
  "metadata": {
    "colab": {
      "provenance": []
    },
    "kernelspec": {
      "name": "python3",
      "display_name": "Python 3"
    },
    "language_info": {
      "name": "python"
    }
  },
  "cells": [
    {
      "cell_type": "code",
      "execution_count": 1,
      "metadata": {
        "id": "SPTsyRYOzg3g",
        "colab": {
          "base_uri": "https://localhost:8080/"
        },
        "outputId": "52ee4fd2-86dc-4ef2-8895-8ea886ff9987"
      },
      "outputs": [
        {
          "output_type": "stream",
          "name": "stdout",
          "text": [
            "I am Lisha\n"
          ]
        }
      ],
      "source": [
        "print(\"I am Lisha\")"
      ]
    },
    {
      "cell_type": "code",
      "source": [],
      "metadata": {
        "id": "8aaKlg0S1T7_"
      },
      "execution_count": null,
      "outputs": []
    }
  ]
}